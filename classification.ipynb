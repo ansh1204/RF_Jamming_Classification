{
 "cells": [
  {
   "cell_type": "code",
   "execution_count": 230,
   "metadata": {},
   "outputs": [],
   "source": [
    "import numpy as np\n",
    "import matplotlib.pyplot as plt\n",
    "import math\n",
    "\n",
    "path = \"./BTPData/Distance\"\n",
    "\n",
    "def unique_rows(a):\n",
    "    a = np.ascontiguousarray(a)\n",
    "    unique_a = np.unique(a.view([('', a.dtype)]*a.shape[1]))\n",
    "    return unique_a.view(a.dtype).reshape((unique_a.shape[0], a.shape[1]))\n",
    "\n",
    "def delNaN(a,b):\n",
    "    count = 0\n",
    "    for i in range(len(a)):\n",
    "        if(math.isnan(a[i])):\n",
    "            count = count + 1\n",
    "        \n",
    "    for i in range(len(a) - count):\n",
    "        if(math.isnan(a[i])):\n",
    "            a = np.delete(a, (i), axis = 0)\n",
    "            b = np.delete(b, (i), axis = 0)\n",
    "            i = i - 1\n",
    "    return a,b"
   ]
  },
  {
   "cell_type": "markdown",
   "metadata": {},
   "source": [
    "# No Jammer"
   ]
  },
  {
   "cell_type": "code",
   "execution_count": 231,
   "metadata": {},
   "outputs": [
    {
     "name": "stdout",
     "output_type": "stream",
     "text": [
      "5070\n"
     ]
    }
   ],
   "source": [
    "a = np.loadtxt(path + \"/rss_nojammer_node2.txt\")\n",
    "a = 10*np.log10(1000*a)\n",
    "b = np.loadtxt(path + \"/pdr_nojammer_node2.txt\")\n",
    "\n",
    "a,b = delNaN(a,b)\n",
    "\n",
    "d = a.reshape(len(a),1)\n",
    "e = b.reshape(len(b),1)\n",
    "\n",
    "data = np.concatenate((d,e),axis = 1)\n",
    "data = unique_rows(data)\n",
    "for i in range(len(data)):\n",
    "    if(data[i][0] < -93.5):\n",
    "        data[i][0] = -84\n",
    "        data[i][1] = 2\n",
    "data = unique_rows(data)\n",
    "idx = 0\n",
    "for i in range(len(data)):\n",
    "    if(data[i][1] == 2):\n",
    "        idx = i\n",
    "data = np.delete(data, (idx), axis = 0)\n",
    "np.random.shuffle(data)\n",
    "data1 = data\n",
    "print(len(data1))"
   ]
  },
  {
   "cell_type": "markdown",
   "metadata": {},
   "source": [
    "# Constant Jammer"
   ]
  },
  {
   "cell_type": "code",
   "execution_count": 232,
   "metadata": {
    "scrolled": true
   },
   "outputs": [
    {
     "name": "stdout",
     "output_type": "stream",
     "text": [
      "10901\n"
     ]
    }
   ],
   "source": [
    "a = np.loadtxt(path + \"/rss_constantjammer_node2.txt\")\n",
    "a = 10*np.log10(1000*a)\n",
    "b = np.loadtxt(path + \"/pdr_constantjammer_node2.txt\")\n",
    "\n",
    "a,b = delNaN(a,b)\n",
    "\n",
    "d = a.reshape(len(a),1)\n",
    "e = b.reshape(len(b),1)\n",
    "\n",
    "\n",
    "data = np.concatenate((d,e),axis = 1)\n",
    "data = unique_rows(data)\n",
    "for i in range(len(data)):\n",
    "    if(data[i][0] < -93.5):\n",
    "        data[i][0] = -84\n",
    "        data[i][1] = 2\n",
    "data = unique_rows(data)\n",
    "idx = 0\n",
    "for i in range(len(data)):\n",
    "    if(data[i][1] == 2):\n",
    "        idx = i\n",
    "data = np.delete(data, (idx), axis = 0)\n",
    "np.random.shuffle(data)\n",
    "data2 = data\n",
    "print(len(data2))\n"
   ]
  },
  {
   "cell_type": "markdown",
   "metadata": {},
   "source": [
    "# Reactive Jammer"
   ]
  },
  {
   "cell_type": "code",
   "execution_count": 233,
   "metadata": {},
   "outputs": [
    {
     "name": "stdout",
     "output_type": "stream",
     "text": [
      "9514\n"
     ]
    }
   ],
   "source": [
    "a = np.loadtxt(path + \"/rss_reactivejammer_node2.txt\")\n",
    "a = 10*np.log10(1000*a)\n",
    "b = np.loadtxt(path + \"/pdr_reactivejammer_node2.txt\")\n",
    "\n",
    "a,b = delNaN(a,b)\n",
    "\n",
    "d = a.reshape(len(a),1)\n",
    "e = b.reshape(len(b),1)\n",
    "data = np.concatenate((d,e),axis = 1)\n",
    "data = unique_rows(data)\n",
    "for i in range(len(data)):\n",
    "    if(data[i][0] < -93.5):\n",
    "        data[i][0] = -84\n",
    "        data[i][1] = 2\n",
    "data = unique_rows(data)\n",
    "idx = 0\n",
    "for i in range(len(data)):\n",
    "    if(data[i][1] == 2):\n",
    "        idx = i\n",
    "data = np.delete(data, (idx), axis = 0)\n",
    "np.random.shuffle(data)\n",
    "data3 = data\n",
    "print(len(data3))"
   ]
  },
  {
   "cell_type": "markdown",
   "metadata": {},
   "source": [
    "# Random Jammer"
   ]
  },
  {
   "cell_type": "code",
   "execution_count": 234,
   "metadata": {},
   "outputs": [
    {
     "name": "stdout",
     "output_type": "stream",
     "text": [
      "4614\n"
     ]
    },
    {
     "name": "stderr",
     "output_type": "stream",
     "text": [
      "/home/ansh/anaconda3/lib/python3.7/site-packages/ipykernel_launcher.py:2: RuntimeWarning: invalid value encountered in log10\n",
      "  \n"
     ]
    }
   ],
   "source": [
    "a = np.loadtxt(path + \"/rss_randomjammer_node2.txt\")\n",
    "a = 10*np.log10(1000*a)\n",
    "b = np.loadtxt(path + \"/pdr_randomjammer_node2.txt\")\n",
    "\n",
    "a,b = delNaN(a,b)\n",
    "\n",
    "d = a.reshape(len(a),1)\n",
    "e = b.reshape(len(b),1)\n",
    "\n",
    "data = np.concatenate((d,e),axis = 1)\n",
    "data = unique_rows(data)\n",
    "for i in range(len(data)):\n",
    "    if(data[i][0] < -93.5):\n",
    "        data[i][0] = -84\n",
    "        data[i][1] = 2\n",
    "data = unique_rows(data)\n",
    "idx = 0\n",
    "for i in range(len(data)):\n",
    "    if(data[i][1] == 2):\n",
    "        idx = i\n",
    "data = np.delete(data, (idx), axis = 0)\n",
    "np.random.shuffle(data)\n",
    "data4 = data\n",
    "print(len(data4))"
   ]
  },
  {
   "cell_type": "markdown",
   "metadata": {},
   "source": [
    "# Plotting Graph"
   ]
  },
  {
   "cell_type": "code",
   "execution_count": 235,
   "metadata": {},
   "outputs": [
    {
     "data": {
      "image/png": "[encoded data removed]",
      "text/plain": [
       "<Figure size 432x288 with 1 Axes>"
      ]
     },
     "metadata": {
      "needs_background": "light"
     },
     "output_type": "display_data"
    }
   ],
   "source": [
    "noOfData = 250\n",
    "\n",
    "plt.scatter(data1[:noOfData,1], data1[:noOfData,0], marker = 'o', alpha = 0.8, color = ['yellow'])\n",
    "plt.scatter(data2[:noOfData,1], data2[:noOfData,0], marker = '^', alpha = 0.8, color = ['green'])\n",
    "plt.scatter(data3[:noOfData,1], data3[:noOfData,0], marker = '*', alpha = 0.8, color = ['red']) \n",
    "plt.scatter(data4[:noOfData,1], data4[:noOfData,0], marker = '+', alpha = 0.4, color = ['blue'])\n",
    "\n",
    "plt.title('PDR vs RSS')\n",
    "# naming the x axis \n",
    "plt.xlabel('PDR') \n",
    "# naming the y axis d\n",
    "plt.ylabel('Received Signal Strength(dBm)')\n",
    "\n",
    "# function to show the plot\n",
    "# plt.show('a.png')\n",
    "plt.savefig('Distance')"
   ]
  },
  {
   "cell_type": "markdown",
   "metadata": {},
   "source": [
    "# Data Set Prep"
   ]
  },
  {
   "cell_type": "code",
   "execution_count": 236,
   "metadata": {},
   "outputs": [
    {
     "name": "stdout",
     "output_type": "stream",
     "text": [
      "(4400, 3)\n",
      "(4400, 3)\n",
      "(4400, 3)\n",
      "(4400, 3)\n",
      "(17600, 3)\n"
     ]
    }
   ],
   "source": [
    "from sklearn import metrics\n",
    "from sklearn import preprocessing\n",
    "from sklearn.model_selection import train_test_split\n",
    "from sklearn.metrics import confusion_matrix\n",
    "min_max_scaler = preprocessing.MinMaxScaler()\n",
    "\n",
    "# No Jammer\n",
    "c = np.zeros((len(data1),1))\n",
    "data = min_max_scaler.fit_transform(data1)\n",
    "train_features1 = np.concatenate((data,c),axis = 1)\n",
    "train_features1 = train_features1[0:4400]\n",
    "print(train_features1.shape)\n",
    "\n",
    "#Constant Jammer\n",
    "c = np.ones((len(data2),1))\n",
    "data = min_max_scaler.fit_transform(data2)\n",
    "train_features2 = np.concatenate((data,c),axis = 1)\n",
    "train_features2 = train_features2[0:4400]\n",
    "print(train_features2.shape)\n",
    "\n",
    "#Reactive Jammer\n",
    "c =  np.full((len(data3),1),2)\n",
    "data = min_max_scaler.fit_transform(data3)\n",
    "train_features3 = np.concatenate((data,c),axis = 1)\n",
    "train_features3 = train_features3[0:4400]\n",
    "print(train_features3.shape)\n",
    "\n",
    "#Random Jammer\n",
    "c =  np.full((len(data4),1),3)\n",
    "data = min_max_scaler.fit_transform(data4)\n",
    "train_features4 = np.concatenate((data,c),axis = 1)\n",
    "train_features4 = train_features4[0:4400]\n",
    "print(train_features4.shape)\n",
    "\n",
    "#Combine all\n",
    "train_features = np.concatenate((train_features1,train_features2, train_features3, train_features4),axis = 0)\n",
    "np.random.shuffle(train_features)\n",
    "print(train_features.shape)\n",
    "\n",
    "\n",
    "train_data, test_data, train_label, test_label = train_test_split(train_features[:,0:2], train_features[:,2], \n",
    "                                                                  test_size = 0.2, random_state = 1)\n",
    "\n",
    "accuracies = np.zeros(4)"
   ]
  },
  {
   "cell_type": "markdown",
   "metadata": {},
   "source": [
    "# K Nearest Neighbours"
   ]
  },
  {
   "cell_type": "code",
   "execution_count": 242,
   "metadata": {},
   "outputs": [
    {
     "name": "stdout",
     "output_type": "stream",
     "text": [
      "Accuracy: 0.6857954545454545\n"
     ]
    }
   ],
   "source": [
    "from sklearn.neighbors import KNeighborsClassifier\n",
    "classifier = KNeighborsClassifier(n_neighbors = 35)\n",
    "classifier.fit(train_data, train_label)\n",
    "predictions = classifier.predict(test_data)\n",
    "print(\"Accuracy:\",metrics.accuracy_score(test_label, predictions))\n",
    "accuracies[0] = metrics.accuracy_score(test_label, predictions)"
   ]
  },
  {
   "cell_type": "code",
   "execution_count": 243,
   "metadata": {},
   "outputs": [
    {
     "data": {
      "text/plain": [
       "array([[914,   0,   9,   0],\n",
       "       [ 72, 497, 250,  84],\n",
       "       [ 52, 163, 461, 167],\n",
       "       [ 90,  78, 141, 542]])"
      ]
     },
     "execution_count": 243,
     "metadata": {},
     "output_type": "execute_result"
    }
   ],
   "source": [
    "confusion_matrix(test_label,predictions)"
   ]
  },
  {
   "cell_type": "markdown",
   "metadata": {},
   "source": [
    "# Decision Tree"
   ]
  },
  {
   "cell_type": "code",
   "execution_count": 244,
   "metadata": {},
   "outputs": [
    {
     "name": "stdout",
     "output_type": "stream",
     "text": [
      "Accuracy: 0.9198863636363637\n"
     ]
    }
   ],
   "source": [
    "from sklearn.tree import DecisionTreeClassifier\n",
    "clf = DecisionTreeClassifier()\n",
    "clf = clf.fit(train_data,train_label)\n",
    "predictions = clf.predict(test_data)  \n",
    "print(\"Accuracy:\",metrics.accuracy_score(test_label, predictions))\n",
    "accuracies[1] = metrics.accuracy_score(test_label, predictions)"
   ]
  },
  {
   "cell_type": "code",
   "execution_count": 245,
   "metadata": {},
   "outputs": [
    {
     "data": {
      "text/plain": [
       "array([[859,  18,  21,  25],\n",
       "       [  7, 837,  23,  36],\n",
       "       [  7,  35, 776,  25],\n",
       "       [ 11,  45,  29, 766]])"
      ]
     },
     "execution_count": 245,
     "metadata": {},
     "output_type": "execute_result"
    }
   ],
   "source": [
    "confusion_matrix(test_label,predictions)"
   ]
  },
  {
   "cell_type": "markdown",
   "metadata": {},
   "source": [
    "# Random Forest"
   ]
  },
  {
   "cell_type": "code",
   "execution_count": 246,
   "metadata": {},
   "outputs": [
    {
     "name": "stdout",
     "output_type": "stream",
     "text": [
      "Accuracy: 0.875\n"
     ]
    }
   ],
   "source": [
    "from sklearn.ensemble import RandomForestClassifier\n",
    "rf = RandomForestClassifier(n_estimators = 100)\n",
    "rf.fit(train_data, train_label)\n",
    "predictions = rf.predict(test_data)\n",
    "accuracy = metrics.accuracy_score(test_label, predictions)\n",
    "accuracies[2] = accuracy\n",
    "print(\"Accuracy:\", accuracy)"
   ]
  },
  {
   "cell_type": "code",
   "execution_count": 247,
   "metadata": {},
   "outputs": [
    {
     "data": {
      "text/plain": [
       "array([[858,  14,  15,  36],\n",
       "       [  7, 793,  60,  43],\n",
       "       [  7,  75, 684,  77],\n",
       "       [ 13,  43,  50, 745]])"
      ]
     },
     "execution_count": 247,
     "metadata": {},
     "output_type": "execute_result"
    }
   ],
   "source": [
    "confusion_matrix(test_label,predictions)"
   ]
  },
  {
   "cell_type": "markdown",
   "metadata": {},
   "source": [
    "# Gradient Boosting"
   ]
  },
  {
   "cell_type": "code",
   "execution_count": 250,
   "metadata": {},
   "outputs": [
    {
     "name": "stdout",
     "output_type": "stream",
     "text": [
      "Accuracy: 0.9443181818181818\n"
     ]
    }
   ],
   "source": [
    "from sklearn import ensemble\n",
    "params = {\n",
    "    'n_estimators': 5,\n",
    "    'max_depth': 10,\n",
    "    'learning_rate': 0.4,\n",
    "    'criterion': 'mse'\n",
    "}\n",
    "gradient_boosting_classifier = ensemble.GradientBoostingClassifier(**params)\n",
    "gradient_boosting_classifier.fit(train_data, train_label)\n",
    "predictions = gradient_boosting_classifier.predict(test_data)\n",
    "print(\"Accuracy:\",metrics.accuracy_score(test_label, predictions))\n",
    "accuracies[3] = metrics.accuracy_score(test_label, predictions)"
   ]
  },
  {
   "cell_type": "code",
   "execution_count": 251,
   "metadata": {},
   "outputs": [
    {
     "data": {
      "text/plain": [
       "array([[890,   3,   8,  22],\n",
       "       [ 13, 842,  21,  27],\n",
       "       [ 12,  19, 792,  20],\n",
       "       [ 22,  22,   7, 800]])"
      ]
     },
     "execution_count": 251,
     "metadata": {},
     "output_type": "execute_result"
    }
   ],
   "source": [
    "confusion_matrix(test_label,predictions)"
   ]
  },
  {
   "cell_type": "code",
   "execution_count": 30,
   "metadata": {},
   "outputs": [
    {
     "data": {
      "text/plain": [
       "<BarContainer object of 4 artists>"
      ]
     },
     "execution_count": 30,
     "metadata": {},
     "output_type": "execute_result"
    },
    {
     "data": {
      "image/png": "[encoded data removed]",
      "text/plain": [
       "<Figure size 432x288 with 1 Axes>"
      ]
     },
     "metadata": {
      "needs_background": "light"
     },
     "output_type": "display_data"
    }
   ],
   "source": [
    "y = accuracies*100\n",
    "N = len(y)\n",
    "x = ['Knn','Decision Tree','Random Forest', 'Gradient boosting']\n",
    "width = 1/2\n",
    "plt.bar(x, y, width, color=\"red\")"
   ]
  },
  {
   "cell_type": "code",
   "execution_count": null,
   "metadata": {},
   "outputs": [],
   "source": []
  },
  {
   "cell_type": "code",
   "execution_count": null,
   "metadata": {},
   "outputs": [],
   "source": []
  }
 ],
 "metadata": {
  "kernelspec": {
   "display_name": "Python 3",
   "language": "python",
   "name": "python3"
  },
  "language_info": {
   "codemirror_mode": {
    "name": "ipython",
    "version": 3
   },
   "file_extension": ".py",
   "mimetype": "text/x-python",
   "name": "python",
   "nbconvert_exporter": "python",
   "pygments_lexer": "ipython3",
   "version": "3.7.1"
  }
 },
 "nbformat": 4,
 "nbformat_minor": 2
}
